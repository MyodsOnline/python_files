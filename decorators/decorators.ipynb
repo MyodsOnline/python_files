{
 "cells": [
  {
   "cell_type": "markdown",
   "id": "78e6b0cd",
   "metadata": {},
   "source": [
    "## Decorators"
   ]
  },
  {
   "cell_type": "code",
   "execution_count": 7,
   "id": "3fc39ea4",
   "metadata": {},
   "outputs": [
    {
     "name": "stdout",
     "output_type": "stream",
     "text": [
      "Hi, PyCharm!\n"
     ]
    }
   ],
   "source": [
    "def say_hi(name):\n",
    "    print(f'Hi, {name}!')\n",
    "\n",
    "if __name__ == '__main__':\n",
    "    say_hi('PyCharm')\n",
    "    "
   ]
  },
  {
   "cell_type": "markdown",
   "id": "e4440dee",
   "metadata": {},
   "source": [
    "# intro start"
   ]
  },
  {
   "cell_type": "code",
   "execution_count": 10,
   "id": "16be6f5c",
   "metadata": {},
   "outputs": [],
   "source": [
    "def my_function():\n",
    "    print ('my function runs')"
   ]
  },
  {
   "cell_type": "code",
   "execution_count": 11,
   "id": "9d6db114",
   "metadata": {},
   "outputs": [
    {
     "name": "stdout",
     "output_type": "stream",
     "text": [
      "my function runs\n"
     ]
    }
   ],
   "source": [
    "my_function()"
   ]
  },
  {
   "cell_type": "markdown",
   "id": "e4e60023",
   "metadata": {},
   "source": [
    "# @my_decorator create"
   ]
  },
  {
   "cell_type": "code",
   "execution_count": 23,
   "id": "c93bf40c",
   "metadata": {},
   "outputs": [],
   "source": [
    "def my_decorator(func_to_decorate):\n",
    "    print ('in my decorator:', func_to_decorate)\n",
    "    return func_to_decorate"
   ]
  },
  {
   "cell_type": "code",
   "execution_count": 24,
   "id": "8ce832bd",
   "metadata": {},
   "outputs": [
    {
     "name": "stdout",
     "output_type": "stream",
     "text": [
      "in my decorator: abc\n",
      "in my decorator: <function my_function at 0x10a2b2cb0>\n"
     ]
    },
    {
     "data": {
      "text/plain": [
       "<function __main__.my_function()>"
      ]
     },
     "execution_count": 24,
     "metadata": {},
     "output_type": "execute_result"
    }
   ],
   "source": [
    "my_decorator('abc')\n",
    "my_decorator(my_function)"
   ]
  },
  {
   "cell_type": "code",
   "execution_count": 25,
   "id": "d0b90ccd",
   "metadata": {},
   "outputs": [
    {
     "name": "stdout",
     "output_type": "stream",
     "text": [
      "in my decorator: <function func_to_decorate_2 at 0x10a2b3b50>\n"
     ]
    }
   ],
   "source": [
    "@my_decorator\n",
    "def func_to_decorate_2():\n",
    "    print ('inner function:')"
   ]
  },
  {
   "cell_type": "code",
   "execution_count": 20,
   "id": "206bd9f8",
   "metadata": {},
   "outputs": [
    {
     "name": "stdout",
     "output_type": "stream",
     "text": [
      "in my decarator: <function func_3 at 0x10a2b3910>\n"
     ]
    }
   ],
   "source": [
    "def func_3():\n",
    "    print ('inner function')\n",
    "\n",
    "func_3 = my_decorator(func_3)"
   ]
  },
  {
   "cell_type": "markdown",
   "id": "c4f133c9",
   "metadata": {},
   "source": [
    "# @my_dec create"
   ]
  },
  {
   "cell_type": "code",
   "execution_count": 26,
   "id": "5656d2a1",
   "metadata": {},
   "outputs": [],
   "source": [
    "def my_dec(func):\n",
    "    print('my decorating func', func)\n",
    "    \n",
    "    def wrapper():\n",
    "        print('Wrapper start')\n",
    "        func()\n",
    "        print('End wrapper')\n",
    "    \n",
    "    print('created wrapper')\n",
    "    return wrapper"
   ]
  },
  {
   "cell_type": "code",
   "execution_count": 29,
   "id": "bfb342b2",
   "metadata": {},
   "outputs": [
    {
     "name": "stdout",
     "output_type": "stream",
     "text": [
      "my decorating func <function my_func at 0x10a2b29e0>\n",
      "created wrapper\n"
     ]
    }
   ],
   "source": [
    "@my_dec\n",
    "def my_func():\n",
    "    print('\\tInner func my_func')"
   ]
  },
  {
   "cell_type": "code",
   "execution_count": 30,
   "id": "079c907c",
   "metadata": {},
   "outputs": [
    {
     "name": "stdout",
     "output_type": "stream",
     "text": [
      "Wrapper start\n",
      "\tInner func my_func\n",
      "End wrapper\n"
     ]
    }
   ],
   "source": [
    "my_func()"
   ]
  },
  {
   "cell_type": "markdown",
   "id": "2d3fbf26",
   "metadata": {},
   "source": [
    "# intro end"
   ]
  },
  {
   "cell_type": "markdown",
   "id": "0d2dd5cb",
   "metadata": {},
   "source": [
    "## decorate with params"
   ]
  },
  {
   "cell_type": "code",
   "execution_count": 32,
   "id": "c623845f",
   "metadata": {},
   "outputs": [],
   "source": [
    "def decorate_one_arg(func):\n",
    "    \n",
    "    def wrapper(param):\n",
    "        print('call', func, 'with', param)\n",
    "        result = func(param)\n",
    "        print('result=', result)\n",
    "        return result\n",
    "    \n",
    "    return wrapper"
   ]
  },
  {
   "cell_type": "code",
   "execution_count": 33,
   "id": "03ce86fd",
   "metadata": {},
   "outputs": [],
   "source": [
    "@decorate_one_arg\n",
    "def square(n):\n",
    "    return n**2"
   ]
  },
  {
   "cell_type": "code",
   "execution_count": 34,
   "id": "0d6f27bd",
   "metadata": {},
   "outputs": [
    {
     "name": "stdout",
     "output_type": "stream",
     "text": [
      "call <function square at 0x10a2b2560> with 2\n",
      "result= 4\n"
     ]
    },
    {
     "data": {
      "text/plain": [
       "4"
      ]
     },
     "execution_count": 34,
     "metadata": {},
     "output_type": "execute_result"
    }
   ],
   "source": [
    "square(2)"
   ]
  },
  {
   "cell_type": "code",
   "execution_count": 35,
   "id": "43f029de",
   "metadata": {},
   "outputs": [],
   "source": [
    "@decorate_one_arg\n",
    "def str_test(name):\n",
    "    return f'Hello, {name}'"
   ]
  },
  {
   "cell_type": "code",
   "execution_count": 36,
   "id": "66f873bd",
   "metadata": {},
   "outputs": [
    {
     "name": "stdout",
     "output_type": "stream",
     "text": [
      "call <function str_test at 0x109eff880> with Andy\n",
      "result= Hello, Andy\n"
     ]
    },
    {
     "data": {
      "text/plain": [
       "'Hello, Andy'"
      ]
     },
     "execution_count": 36,
     "metadata": {},
     "output_type": "execute_result"
    }
   ],
   "source": [
    "str_test('Andy')"
   ]
  },
  {
   "cell_type": "markdown",
   "id": "3c66b674",
   "metadata": {},
   "source": [
    "## class decorator"
   ]
  },
  {
   "cell_type": "code",
   "execution_count": 40,
   "id": "653cbfae",
   "metadata": {},
   "outputs": [],
   "source": [
    "class User:\n",
    "    def __init__(self, name):\n",
    "        self.name = name\n",
    "        \n",
    "    def __str__(self):\n",
    "        return f'user with name {self.name}'\n",
    "    "
   ]
  },
  {
   "cell_type": "code",
   "execution_count": 41,
   "id": "5932f207",
   "metadata": {},
   "outputs": [],
   "source": [
    "u_1 = User('Andy')"
   ]
  },
  {
   "cell_type": "code",
   "execution_count": 42,
   "id": "8722a11e",
   "metadata": {},
   "outputs": [
    {
     "name": "stdout",
     "output_type": "stream",
     "text": [
      "user with name Andy\n"
     ]
    }
   ],
   "source": [
    "print(u_1)"
   ]
  },
  {
   "cell_type": "code",
   "execution_count": 43,
   "id": "0c9514ce",
   "metadata": {},
   "outputs": [],
   "source": [
    "@User\n",
    "def qwe():\n",
    "    return ''"
   ]
  },
  {
   "cell_type": "code",
   "execution_count": 44,
   "id": "f303ff94",
   "metadata": {},
   "outputs": [
    {
     "name": "stdout",
     "output_type": "stream",
     "text": [
      "user with name <function qwe at 0x10a444160>\n"
     ]
    }
   ],
   "source": [
    "print(qwe)"
   ]
  },
  {
   "cell_type": "code",
   "execution_count": 45,
   "id": "54343ca3",
   "metadata": {},
   "outputs": [
    {
     "data": {
      "text/plain": [
       "''"
      ]
     },
     "execution_count": 45,
     "metadata": {},
     "output_type": "execute_result"
    }
   ],
   "source": [
    "qwe.name()"
   ]
  },
  {
   "cell_type": "code",
   "execution_count": null,
   "id": "f18cec93",
   "metadata": {},
   "outputs": [],
   "source": []
  }
 ],
 "metadata": {
  "kernelspec": {
   "display_name": "Python 3 (ipykernel)",
   "language": "python",
   "name": "python3"
  },
  "language_info": {
   "codemirror_mode": {
    "name": "ipython",
    "version": 3
   },
   "file_extension": ".py",
   "mimetype": "text/x-python",
   "name": "python",
   "nbconvert_exporter": "python",
   "pygments_lexer": "ipython3",
   "version": "3.10.1"
  }
 },
 "nbformat": 4,
 "nbformat_minor": 5
}
