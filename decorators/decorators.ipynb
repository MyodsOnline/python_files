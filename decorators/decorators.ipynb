{
 "cells": [
  {
   "cell_type": "markdown",
   "id": "78e6b0cd",
   "metadata": {},
   "source": [
    "## Decorators"
   ]
  },
  {
   "cell_type": "code",
   "execution_count": 7,
   "id": "3fc39ea4",
   "metadata": {},
   "outputs": [
    {
     "name": "stdout",
     "output_type": "stream",
     "text": [
      "Hi, PyCharm!\n"
     ]
    }
   ],
   "source": [
    "def say_hi(name):\n",
    "    print(f'Hi, {name}!')\n",
    "\n",
    "if __name__ == '__main__':\n",
    "    say_hi('PyCharm')\n",
    "    "
   ]
  },
  {
   "cell_type": "markdown",
   "id": "e4440dee",
   "metadata": {},
   "source": [
    "# intro start"
   ]
  },
  {
   "cell_type": "code",
   "execution_count": 10,
   "id": "16be6f5c",
   "metadata": {},
   "outputs": [],
   "source": [
    "def my_function():\n",
    "    print ('my function runs')"
   ]
  },
  {
   "cell_type": "code",
   "execution_count": 11,
   "id": "9d6db114",
   "metadata": {},
   "outputs": [
    {
     "name": "stdout",
     "output_type": "stream",
     "text": [
      "my function runs\n"
     ]
    }
   ],
   "source": [
    "my_function()"
   ]
  },
  {
   "cell_type": "markdown",
   "id": "e4e60023",
   "metadata": {},
   "source": [
    "# @my_decorator create"
   ]
  },
  {
   "cell_type": "code",
   "execution_count": 23,
   "id": "c93bf40c",
   "metadata": {},
   "outputs": [],
   "source": [
    "def my_decorator(func_to_decorate):\n",
    "    print ('in my decorator:', func_to_decorate)\n",
    "    return func_to_decorate"
   ]
  },
  {
   "cell_type": "code",
   "execution_count": 24,
   "id": "8ce832bd",
   "metadata": {},
   "outputs": [
    {
     "name": "stdout",
     "output_type": "stream",
     "text": [
      "in my decorator: abc\n",
      "in my decorator: <function my_function at 0x10a2b2cb0>\n"
     ]
    },
    {
     "data": {
      "text/plain": [
       "<function __main__.my_function()>"
      ]
     },
     "execution_count": 24,
     "metadata": {},
     "output_type": "execute_result"
    }
   ],
   "source": [
    "my_decorator('abc')\n",
    "my_decorator(my_function)"
   ]
  },
  {
   "cell_type": "code",
   "execution_count": 25,
   "id": "d0b90ccd",
   "metadata": {},
   "outputs": [
    {
     "name": "stdout",
     "output_type": "stream",
     "text": [
      "in my decorator: <function func_to_decorate_2 at 0x10a2b3b50>\n"
     ]
    }
   ],
   "source": [
    "@my_decorator\n",
    "def func_to_decorate_2():\n",
    "    print ('inner function:')"
   ]
  },
  {
   "cell_type": "code",
   "execution_count": 20,
   "id": "206bd9f8",
   "metadata": {},
   "outputs": [
    {
     "name": "stdout",
     "output_type": "stream",
     "text": [
      "in my decarator: <function func_3 at 0x10a2b3910>\n"
     ]
    }
   ],
   "source": [
    "def func_3():\n",
    "    print ('inner function')\n",
    "\n",
    "func_3 = my_decorator(func_3)"
   ]
  },
  {
   "cell_type": "markdown",
   "id": "c4f133c9",
   "metadata": {},
   "source": [
    "# @my_dec create"
   ]
  },
  {
   "cell_type": "code",
   "execution_count": 26,
   "id": "5656d2a1",
   "metadata": {},
   "outputs": [],
   "source": [
    "def my_dec(func):\n",
    "    print('my decorating func', func)\n",
    "    \n",
    "    def wrapper():\n",
    "        print('Wrapper start')\n",
    "        func()\n",
    "        print('End wrapper')\n",
    "    \n",
    "    print('created wrapper')\n",
    "    return wrapper"
   ]
  },
  {
   "cell_type": "code",
   "execution_count": 29,
   "id": "bfb342b2",
   "metadata": {},
   "outputs": [
    {
     "name": "stdout",
     "output_type": "stream",
     "text": [
      "my decorating func <function my_func at 0x10a2b29e0>\n",
      "created wrapper\n"
     ]
    }
   ],
   "source": [
    "@my_dec\n",
    "def my_func():\n",
    "    print('\\tInner func my_func')"
   ]
  },
  {
   "cell_type": "code",
   "execution_count": 30,
   "id": "079c907c",
   "metadata": {},
   "outputs": [
    {
     "name": "stdout",
     "output_type": "stream",
     "text": [
      "Wrapper start\n",
      "\tInner func my_func\n",
      "End wrapper\n"
     ]
    }
   ],
   "source": [
    "my_func()"
   ]
  },
  {
   "cell_type": "code",
   "execution_count": null,
   "id": "1d86a332",
   "metadata": {},
   "outputs": [],
   "source": []
  }
 ],
 "metadata": {
  "kernelspec": {
   "display_name": "Python 3 (ipykernel)",
   "language": "python",
   "name": "python3"
  },
  "language_info": {
   "codemirror_mode": {
    "name": "ipython",
    "version": 3
   },
   "file_extension": ".py",
   "mimetype": "text/x-python",
   "name": "python",
   "nbconvert_exporter": "python",
   "pygments_lexer": "ipython3",
   "version": "3.10.1"
  }
 },
 "nbformat": 4,
 "nbformat_minor": 5
}
